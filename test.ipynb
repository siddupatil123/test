{
 "cells": [
  {
   "cell_type": "code",
   "execution_count": 9,
   "id": "8378e2e6",
   "metadata": {},
   "outputs": [],
   "source": [
    "# move zeros"
   ]
  },
  {
   "cell_type": "code",
   "execution_count": 11,
   "id": "a824e7aa",
   "metadata": {},
   "outputs": [],
   "source": [
    "def test(zeros):\n",
    "    p = 0\n",
    "\n",
    "    for i in zeros:\n",
    "        if i != 0:\n",
    "            zeros[p] = i\n",
    "            p += 1\n",
    "\n",
    "    for i in range(p, len(zeros)):\n",
    "        zeros[i] = 0\n",
    "        print(zeros)"
   ]
  },
  {
   "cell_type": "code",
   "execution_count": 12,
   "id": "60a3d243",
   "metadata": {},
   "outputs": [
    {
     "name": "stdout",
     "output_type": "stream",
     "text": [
      "[1, 3, 12, 0, 12]\n",
      "[1, 3, 12, 0, 0]\n"
     ]
    }
   ],
   "source": [
    "test([0,1,0,3,12])"
   ]
  },
  {
   "cell_type": "code",
   "execution_count": 21,
   "id": "32f63c0a",
   "metadata": {},
   "outputs": [],
   "source": [
    " def firstUniqChar(s):\n",
    "        frequency = {}\n",
    "        for i in s:\n",
    "            if i not in frequency:\n",
    "                frequency[i] = 1\n",
    "            else:\n",
    "                frequency[i] +=1\n",
    "        for i in range(len(s)):\n",
    "            if frequency[s[i]] == 1:\n",
    "                return i\n",
    "      \n",
    "        return -1"
   ]
  },
  {
   "cell_type": "code",
   "execution_count": 22,
   "id": "32079ff1",
   "metadata": {},
   "outputs": [
    {
     "data": {
      "text/plain": [
       "0"
      ]
     },
     "execution_count": 22,
     "metadata": {},
     "output_type": "execute_result"
    }
   ],
   "source": [
    "firstUniqChar(\"leetcode\")"
   ]
  },
  {
   "cell_type": "code",
   "execution_count": 23,
   "id": "28832cce",
   "metadata": {},
   "outputs": [
    {
     "data": {
      "text/plain": [
       "-1"
      ]
     },
     "execution_count": 23,
     "metadata": {},
     "output_type": "execute_result"
    }
   ],
   "source": [
    "firstUniqChar(\"aabb\")"
   ]
  },
  {
   "cell_type": "code",
   "execution_count": null,
   "id": "f1a4de42",
   "metadata": {},
   "outputs": [],
   "source": []
  }
 ],
 "metadata": {
  "kernelspec": {
   "display_name": "Python 3 (ipykernel)",
   "language": "python",
   "name": "python3"
  },
  "language_info": {
   "codemirror_mode": {
    "name": "ipython",
    "version": 3
   },
   "file_extension": ".py",
   "mimetype": "text/x-python",
   "name": "python",
   "nbconvert_exporter": "python",
   "pygments_lexer": "ipython3",
   "version": "3.11.0"
  }
 },
 "nbformat": 4,
 "nbformat_minor": 5
}
